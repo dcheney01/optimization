{
 "cells": [
  {
   "cell_type": "code",
   "execution_count": 1,
   "metadata": {},
   "outputs": [],
   "source": [
    "\"\"\"\"\n",
    "The goal of this homework is to understand the approaches for taking derivatives and I will provide derivatives to the optimizer. I will use the truss problem with code available here: https://github.com/mdobook/resources/tree/main/exercises/tenbartruss\n",
    "\n",
    "I will use the following methods:\n",
    "    - Forward Finite Difference\n",
    "    - Complex-Step Derivative\n",
    "    - Algorithmic Differenctiation\n",
    "\"\"\"\n",
    "\n",
    "import numpy as np\n",
    "from truss import truss"
   ]
  },
  {
   "cell_type": "code",
   "execution_count": 2,
   "metadata": {},
   "outputs": [],
   "source": [
    "# Foward Finite Difference Derivative\n",
    "\"\"\"\n",
    "Foward finite-difference Gradient Compuation of a Vector-Valued Function\n",
    "    inputs:\n",
    "        - f: vector of functions of interest\n",
    "        - x: point about which to compute the gradients\n",
    "        - h: step size to use when calculating the gradient, defaults to 1e-6\n",
    "    outputs:\n",
    "        - J: jacobian of f wrt x\n",
    "\"\"\"\n",
    "\n",
    "def ff_dm_dA(f, x, h=1e-6):\n",
    "    f0, _ = f(x)\n",
    "    f_forward, _ = f(x + h)\n",
    "    return (f_forward - f0) / h\n",
    "\n",
    "def ff_dsigma_dA(f, x, h=1e-6):\n",
    "    _, f0 = f(x)\n",
    "    \n",
    "    _, stress_h = truss(x+h)\n",
    "    _, stress = truss(x)\n",
    "\n",
    "    return (mass_h - mass) / h"
   ]
  },
  {
   "cell_type": "code",
   "execution_count": 5,
   "metadata": {},
   "outputs": [
    {
     "data": {
      "text/plain": [
       "array([2.2778983, 2.2778983, 2.2778983, 2.2778983, 2.2778983, 2.2778983,\n",
       "       2.2778983, 2.2778983, 2.2778983, 2.2778983])"
      ]
     },
     "execution_count": 5,
     "metadata": {},
     "output_type": "execute_result"
    }
   ],
   "source": [
    "def test_func(x):\n",
    "    return np.exp(x) / np.sqrt(np.sin(x)**3 + np.cos(x)**3)\n",
    "\n",
    "x = np.ones((10,))\n",
    "\n",
    "ff_dm_dA(test_func, x, h=1e-6)\n"
   ]
  },
  {
   "cell_type": "code",
   "execution_count": null,
   "metadata": {},
   "outputs": [],
   "source": []
  },
  {
   "cell_type": "code",
   "execution_count": null,
   "metadata": {},
   "outputs": [],
   "source": [
    "# Derivative of mass wrt cross-sectional areas (design variables) dm/dA_i for i = 1,...,n_x\n",
    "\n",
    "\n",
    "# Derivative of stress (constraints) wrt to cross-sectional areas (design variables) dsigma_i/dA_j, for i=1,...,n_g and j=1,...,n_x. This will be a (n_g, n_x) shaped matrix where in this case n_g=n_x\n"
   ]
  }
 ],
 "metadata": {
  "kernelspec": {
   "display_name": "Python 3",
   "language": "python",
   "name": "python3"
  },
  "language_info": {
   "codemirror_mode": {
    "name": "ipython",
    "version": 3
   },
   "file_extension": ".py",
   "mimetype": "text/x-python",
   "name": "python",
   "nbconvert_exporter": "python",
   "pygments_lexer": "ipython3",
   "version": "3.8.10"
  },
  "orig_nbformat": 4,
  "vscode": {
   "interpreter": {
    "hash": "916dbcbb3f70747c44a77c7bcd40155683ae19c65e1c03b4aa3499c5328201f1"
   }
  }
 },
 "nbformat": 4,
 "nbformat_minor": 2
}
