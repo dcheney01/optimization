{
 "cells": [
  {
   "cell_type": "code",
   "execution_count": 1,
   "metadata": {},
   "outputs": [],
   "source": [
    "\"\"\"\"\n",
    "The goal of this homework is to understand the approaches for taking derivatives and I will provide derivatives to the optimizer. I will use the truss problem with code available here: https://github.com/mdobook/resources/tree/main/exercises/tenbartruss\n",
    "\n",
    "I will use the following methods:\n",
    "    - Forward Finite Difference\n",
    "    - Complex-Step Derivative\n",
    "    - Algorithmic Differenctiation\n",
    "\"\"\"\n",
    "import numpy as np\n",
    "from truss import truss # For finite difference and complex step\n",
    "\n",
    "import jax.numpy as jnp\n",
    "from jax import jacfwd\n",
    "from truss_jax import truss_jax # For automatic differentiation\n",
    "\n",
    "from scipy.optimize import minimize, NonlinearConstraint\n",
    "import matplotlib.pyplot as plt"
   ]
  },
  {
   "cell_type": "code",
   "execution_count": 2,
   "metadata": {},
   "outputs": [],
   "source": [
    "\"\"\"\n",
    "Foward finite-difference Gradient Compuation of a Vector-Valued Function\n",
    "    inputs:\n",
    "        - x: point about which to compute the gradients\n",
    "        - h: step size to use when calculating the gradient, defaults to 1e-6\n",
    "        - mode: what kind of derivative (either of the mass or stresses wrt the cross sectional area)\n",
    "    outputs:\n",
    "        - J: jacobian of f wrt x\n",
    "\"\"\"\n",
    "\n",
    "def ff_jacobians(x, h=1e-6, mode='mass'):\n",
    "    mass0, stress0 = truss(x)\n",
    "\n",
    "    J_mass = np.zeros((len(x),))\n",
    "    J_stress = np.zeros((len(x), len(x)))\n",
    "\n",
    "    for j in range(len(x)):\n",
    "        x[j] += h\n",
    "        mass_forward, stress_forward = truss(x)\n",
    "        J_mass[j] = (mass_forward - mass0) / h\n",
    "        J_stress[:,j] = (stress_forward - stress0) / h\n",
    "        x[j] -= h\n",
    "\n",
    "    if mode == 'mass':\n",
    "        return J_mass\n",
    "    else:\n",
    "        return J_stress"
   ]
  },
  {
   "cell_type": "code",
   "execution_count": 3,
   "metadata": {},
   "outputs": [],
   "source": [
    "\"\"\"\n",
    "Complex Step Gradient Compuation of a Vector-Valued Function\n",
    "    inputs:\n",
    "        - x: point about which to compute the gradients\n",
    "        - h: step size to use when calculating the gradient, defaults to 1e-6\n",
    "        - mode: what kind of derivative (either of the mass or stresses wrt the cross sectional area)\n",
    "    outputs:\n",
    "        - J: jacobian of f wrt x\n",
    "\"\"\"\n",
    "\n",
    "def complex_jacobians(x, h=1e-20, mode='mass'):\n",
    "    J_mass = np.zeros((len(x),))\n",
    "    J_stress = np.zeros((len(x), len(x)))\n",
    "\n",
    "    x = x.astype('complex')\n",
    "\n",
    "    for j in range(len(x)):\n",
    "        x[j] += complex(0, h)\n",
    "        mass_forward, stress_forward = truss(x)\n",
    "        J_mass[j] = mass_forward.imag / h\n",
    "        J_stress[:,j] = stress_forward.imag / h\n",
    "        x[j] -= complex(0, h)\n",
    "\n",
    "    if mode == 'mass':\n",
    "        return J_mass\n",
    "    else:\n",
    "        return J_stress"
   ]
  },
  {
   "cell_type": "code",
   "execution_count": 4,
   "metadata": {},
   "outputs": [],
   "source": [
    "\"\"\"\n",
    "Forward Mode Automatic Differentiaton\n",
    "    inputs:\n",
    "        - x: point about which to compute the gradients\n",
    "        - mode: what kind of derivative (either of the mass or stresses wrt the cross sectional area)\n",
    "    outputs:\n",
    "        - J: jacobian of f wrt x\n",
    "\"\"\"\n",
    "\n",
    "def ad_jacobians(x, fun, mode='mass'):\n",
    "    if mode =='mass':\n",
    "        return fun(x, get_mass=True)\n",
    "    return fun(x) # Return stress jacobian\n"
   ]
  },
  {
   "cell_type": "code",
   "execution_count": 5,
   "metadata": {},
   "outputs": [],
   "source": [
    "# CONSTRAINTS\n",
    "YIELD_STRESS = np.ones(10,)*25e3 # psi\n",
    "YIELD_STRESS[8] = 75e3 # psi for member 9 only\n",
    "MIN_CROSS_SECTION = 0.1 # in^2, bound constraint\n",
    "CROSS_SECTION_BOUNDS = (MIN_CROSS_SECTION, np.inf)\n",
    "\n",
    "ad_jacob = jacfwd(truss_jax)\n",
    "\n",
    "\n",
    "# Constraint\n",
    "def g(x):\n",
    "    _, stress = truss(x)\n",
    "    return stress\n",
    "\n",
    "def dg_ad(x):\n",
    "    return ad_jacobians(x, ad_jacob, mode='stress')\n",
    "def dg_complex(x):\n",
    "    return complex_jacobians(x, mode='stress')\n",
    "\n",
    "# Objective Function\n",
    "def f(x):\n",
    "    mass, _ = truss(x)\n",
    "    return mass\n",
    "\n",
    "def df(x, method='ad'):\n",
    "    if method == 'ad':\n",
    "        return ad_jacobians(x, ad_jacob, mode='mass')\n",
    "    else:\n",
    "        return complex_jacobians(x, mode='mass')\n",
    "\n",
    "def obj_ad(x):\n",
    "    return f(x), df(x, method='ad')\n",
    "def obj_complex(x):\n",
    "    return f(x), df(x, method='complex')"
   ]
  },
  {
   "cell_type": "code",
   "execution_count": 6,
   "metadata": {},
   "outputs": [
    {
     "name": "stderr",
     "output_type": "stream",
     "text": [
      "WARNING:absl:No GPU/TPU found, falling back to CPU. (Set TF_CPP_MIN_LOG_LEVEL=0 and rerun for more info.)\n"
     ]
    },
    {
     "name": "stdout",
     "output_type": "stream",
     "text": [
      "Finite Difference Steps:\n",
      "[35.99998308 35.99998308 35.99998308 35.99998308 35.99998308 35.99998308\n",
      " 50.91167168 50.91167168 50.91167168 50.91167168]\n",
      "[34.10605132 34.10605132 34.10605132 34.10605132 36.37978807 36.37978807\n",
      " 50.0222086  50.0222086  50.0222086  50.0222086 ]\n",
      "[0. 0. 0. 0. 0. 0. 0. 0. 0. 0.]\n",
      "\n",
      "Complex Step: [36.         36.         36.         36.         36.         36.\n",
      " 50.91168825 50.91168825 50.91168825 50.91168825]\n",
      "\n",
      "Automatic Differentiation: [36.      36.      36.      36.      36.      36.      50.91169 50.91169\n",
      " 50.91169 50.91169]\n"
     ]
    }
   ],
   "source": [
    "# Test Part 1 with Values given\n",
    "A0 = np.ones((10,))*3.0\n",
    "\n",
    "# Test Mass Jacobians\n",
    "print(\"Finite Difference Steps:\")\n",
    "print(ff_jacobians(A0, h=1e-8, mode='mass'))\n",
    "print(ff_jacobians(A0, h=1e-13, mode='mass'))\n",
    "print(ff_jacobians(A0, h=1e-16, mode='mass'))\n",
    "print()\n",
    "print(f\"Complex Step: {df(A0, method='complex')}\")\n",
    "print()\n",
    "print(f\"Automatic Differentiation: {df(A0)}\")"
   ]
  },
  {
   "cell_type": "code",
   "execution_count": 8,
   "metadata": {},
   "outputs": [
    {
     "name": "stdout",
     "output_type": "stream",
     "text": [
      "Finite Difference Steps:\n",
      "[-19168.78007396    -53.97419598  -2658.21988098     80.54216538\n",
      "    413.27381914    -53.97419707  -3844.46648415   3503.8701247\n",
      "    227.80909952   -152.66305149]\n",
      "[-19169.3448869     -53.96432243  -2658.29803539     80.54703358\n",
      "    413.28166844    -54.00142982  -3844.55197491   3503.94402631\n",
      "    227.81532607   -152.67141862]\n",
      "[-19179.42427099    -72.75957614  -2663.00048679     87.31149137\n",
      "    422.00554162    -94.58744898  -3834.42966267   3463.35582435\n",
      "    138.24319467   -211.00277081]\n",
      "[-19499.56640601    509.31703299  -2328.30643654    145.51915228\n",
      "    363.79788071  -1964.50855583  -3565.21923095   3856.25753552\n",
      "    363.79788071  -1091.39364213]\n",
      "[ -87311.4913702    14551.91522837   36379.78807092   65483.61852765\n",
      "       0.         -138243.19466949  -14551.91522837       0.\n",
      "   65483.61852765 -138243.19466949]\n",
      "[0. 0. 0. 0. 0. 0. 0. 0. 0. 0.]\n",
      "Complex Step:\n",
      "[-19169.3443296     -53.9758053   -2658.29812902     80.54456851\n",
      "    413.28487417    -53.9758053   -3844.55225646   3503.94829816\n",
      "    227.81444232   -152.66663179]\n",
      "AD:\n",
      "[-19169.318       -53.97528   -2658.2913       80.54486     413.28546\n",
      "    -53.976013  -3844.5454     3503.95        227.8157     -152.66292 ]\n"
     ]
    }
   ],
   "source": [
    "# Test Stress Jacobians\n",
    "print(\"Finite Difference Steps:\")\n",
    "print(ff_jacobians(A0, h=1e-4, mode='stress')[0, :])\n",
    "print(ff_jacobians(A0, h=1e-8, mode='stress')[0, :])\n",
    "print(ff_jacobians(A0, h=1e-12, mode='stress')[0, :])\n",
    "print(ff_jacobians(A0, h=1e-13, mode='stress')[0, :])\n",
    "print(ff_jacobians(A0, h=1e-15, mode='stress')[0, :])\n",
    "print(ff_jacobians(A0, h=1e-16, mode='stress')[0, :])\n",
    "\n",
    "\n",
    "# Test Complex Step\n",
    "print(\"Complex Step:\")\n",
    "print(dg_complex(A0)[0, :])\n",
    "\n",
    "print(\"AD:\")\n",
    "print(dg_ad(A0)[0,:])"
   ]
  },
  {
   "cell_type": "code",
   "execution_count": 10,
   "metadata": {},
   "outputs": [
    {
     "name": "stdout",
     "output_type": "stream",
     "text": [
      "Finite Differencing Error: -6.033143488355694e-06\n",
      "Complex Step Error: 1.0172006711893826e-06\n"
     ]
    }
   ],
   "source": [
    "A0 = np.ones((10,))*2.0\n",
    "\n",
    "ff_stress = ff_jacobians(A0, h=1e-10, mode='stress')\n",
    "complex_stress = dg_complex(A0)\n",
    "ad_stress = dg_ad(A0)\n",
    "\n",
    "print(f'Finite Differencing Error: {np.mean(np.divide(ad_stress - ff_stress, ff_stress))}')\n",
    "print(f'Complex Step Error: {np.mean(np.divide(ad_stress - complex_stress, complex_stress))}')"
   ]
  },
  {
   "cell_type": "code",
   "execution_count": 14,
   "metadata": {},
   "outputs": [
    {
     "name": "stdout",
     "output_type": "stream",
     "text": [
      "     fun: 1497.6000000036158\n",
      "     jac: array([36.        , 36.        , 36.        , 36.        , 36.        ,\n",
      "       36.        , 50.91168976, 50.91168976, 50.91168976, 50.91168976])\n",
      " message: 'Optimization terminated successfully'\n",
      "    nfev: 1\n",
      "     nit: 1\n",
      "    njev: 1\n",
      "  status: 0\n",
      " success: True\n",
      "       x: array([7.9       , 0.1       , 8.1       , 3.9       , 0.1       ,\n",
      "       0.1       , 5.79827561, 5.51543289, 3.67695526, 0.14142136])\n"
     ]
    },
    {
     "data": {
      "text/plain": [
       "Text(0, 0.5, 'Norm of the Change in x values')"
      ]
     },
     "execution_count": 14,
     "metadata": {},
     "output_type": "execute_result"
    },
    {
     "data": {
      "image/png": "[encoded data removed]",
      "text/plain": [
       "<Figure size 432x288 with 1 Axes>"
      ]
     },
     "metadata": {
      "needs_background": "light"
     },
     "output_type": "display_data"
    }
   ],
   "source": [
    "# Get Results for AD\n",
    "\n",
    "x0 = np.ones(10,)*2.0 # Initial Guess for Cross Sectional Area of each member\n",
    "\n",
    "_constraints = NonlinearConstraint(g, -YIELD_STRESS, YIELD_STRESS, jac=dg_ad)\n",
    "_bounds = tuple([CROSS_SECTION_BOUNDS for b in range(10)])\n",
    "\n",
    "theoptions = {'disp': False, 'maxiter': 2}\n",
    "convergence = [100]\n",
    "prevX = x0\n",
    "\n",
    "while convergence[-1] > 1e-6:\n",
    "    res = minimize(obj_ad, x0, constraints=_constraints, bounds=_bounds, tol=1e-6, jac=True, options=theoptions)\n",
    "    prevX = x0\n",
    "    x0 = res.x\n",
    "    convergence.append(np.linalg.norm(x0-prevX))\n",
    "\n",
    "convergence = convergence[1:]\n",
    "print(res)\n",
    "\n",
    "plt.plot(convergence)\n",
    "plt.title(\"Convergence Plot for Truss Optimization (Forward Mode AD)\")\n",
    "plt.xlabel(\"Iteration\")\n",
    "plt.ylabel(\"Norm of the Change in x values\")\n",
    "# Optimization result wih my gradients: [7.9, 0.1, 8.1, 3.9, 0.1,  0.1,  5.79828, 5.51543, 3.67696, 0.14142]"
   ]
  },
  {
   "cell_type": "code",
   "execution_count": 15,
   "metadata": {},
   "outputs": [
    {
     "name": "stdout",
     "output_type": "stream",
     "text": [
      "     fun: 1497.6000000459785\n",
      "     jac: array([36.        , 36.        , 36.        , 36.        , 36.        ,\n",
      "       36.        , 50.91168825, 50.91168825, 50.91168825, 50.91168825])\n",
      " message: 'Optimization terminated successfully'\n",
      "    nfev: 2\n",
      "     nit: 1\n",
      "    njev: 1\n",
      "  status: 0\n",
      " success: True\n",
      "       x: array([7.9       , 0.1       , 8.1       , 3.9       , 0.1       ,\n",
      "       0.1       , 5.79827561, 5.51543289, 3.67695526, 0.14142136])\n"
     ]
    },
    {
     "data": {
      "text/plain": [
       "Text(0, 0.5, 'Norm of the Change in x values')"
      ]
     },
     "execution_count": 15,
     "metadata": {},
     "output_type": "execute_result"
    },
    {
     "data": {
      "image/png": "[encoded data removed]",
      "text/plain": [
       "<Figure size 432x288 with 1 Axes>"
      ]
     },
     "metadata": {
      "needs_background": "light"
     },
     "output_type": "display_data"
    }
   ],
   "source": [
    "# Get Results for Complex Step\n",
    "\n",
    "x0 = np.ones(10,)*2.0 # Initial Guess for Cross Sectional Area of each member\n",
    "\n",
    "_constraints = NonlinearConstraint(g, -YIELD_STRESS, YIELD_STRESS, jac=dg_complex)\n",
    "_bounds = tuple([CROSS_SECTION_BOUNDS for b in range(10)])\n",
    "\n",
    "theoptions = {'disp': False, 'maxiter': 2}\n",
    "convergence = [100]\n",
    "prevX = x0\n",
    "\n",
    "while convergence[-1] > 1e-6:\n",
    "    res = minimize(obj_complex, x0, constraints=_constraints, bounds=_bounds, tol=1e-6, jac=True, options=theoptions)\n",
    "    prevX = x0\n",
    "    x0 = res.x\n",
    "    convergence.append(np.linalg.norm(x0-prevX))\n",
    "\n",
    "convergence = convergence[1:]\n",
    "print(res)\n",
    "\n",
    "plt.plot(convergence)\n",
    "plt.title(\"Convergence Plot for Truss Optimization (Complex Step)\")\n",
    "plt.xlabel(\"Iteration\")\n",
    "plt.ylabel(\"Norm of the Change in x values\")\n",
    "# Optimization result wih my gradients: [7.9, 0.1, 8.1, 3.9, 0.1,  0.1,  5.79828, 5.51543, 3.67696, 0.14142]"
   ]
  },
  {
   "cell_type": "code",
   "execution_count": 18,
   "metadata": {},
   "outputs": [
    {
     "name": "stderr",
     "output_type": "stream",
     "text": [
      "c:\\Users\\danie\\anaconda3\\envs\\pyt37\\lib\\site-packages\\scipy\\optimize\\optimize.py:283: RuntimeWarning: Values in x were outside bounds during a minimize step, clipping to bounds\n",
      "  \"minimize step, clipping to bounds\", RuntimeWarning)\n"
     ]
    },
    {
     "name": "stdout",
     "output_type": "stream",
     "text": [
      "     fun: 1497.5999999892817\n",
      "     jac: array([36.        , 36.        , 36.        , 36.        , 36.        ,\n",
      "       36.        , 50.91168976, 50.91168976, 50.91168976, 50.91168976])\n",
      " message: 'Optimization terminated successfully'\n",
      "    nfev: 67\n",
      "     nit: 20\n",
      "    njev: 16\n",
      "  status: 0\n",
      " success: True\n",
      "       x: array([7.9       , 0.1       , 8.1       , 3.9       , 0.1       ,\n",
      "       0.1       , 5.79827561, 5.51543289, 3.67695526, 0.14142136])\n"
     ]
    }
   ],
   "source": [
    "# AD Optimization\n",
    "x0 = np.ones((10,))*2.0\n",
    "_constraints = NonlinearConstraint(g, -YIELD_STRESS, YIELD_STRESS, jac=dg_ad)\n",
    "_bounds = tuple([CROSS_SECTION_BOUNDS for b in range(10)])\n",
    "\n",
    "res = minimize(obj_ad, x0, constraints=_constraints, bounds=_bounds, tol=1e-6, jac=True)\n",
    "print(res)"
   ]
  },
  {
   "cell_type": "code",
   "execution_count": 19,
   "metadata": {},
   "outputs": [
    {
     "name": "stdout",
     "output_type": "stream",
     "text": [
      "     fun: 1497.6000000436209\n",
      "     jac: array([36.        , 36.        , 36.        , 36.        , 36.        ,\n",
      "       36.        , 50.91168825, 50.91168825, 50.91168825, 50.91168825])\n",
      " message: 'Optimization terminated successfully'\n",
      "    nfev: 12\n",
      "     nit: 10\n",
      "    njev: 9\n",
      "  status: 0\n",
      " success: True\n",
      "       x: array([7.9       , 0.1       , 8.1       , 3.9       , 0.1       ,\n",
      "       0.1       , 5.79827561, 5.51543289, 3.67695526, 0.14142136])\n"
     ]
    }
   ],
   "source": [
    "# Complex Optimization\n",
    "x0 = np.ones((10,))*2.0\n",
    "_constraints = NonlinearConstraint(g, -YIELD_STRESS, YIELD_STRESS, jac=dg_complex)\n",
    "_bounds = tuple([CROSS_SECTION_BOUNDS for b in range(10)])\n",
    "\n",
    "res = minimize(obj_complex, x0, constraints=_constraints, bounds=_bounds, tol=1e-6, jac=True)\n",
    "print(res)"
   ]
  },
  {
   "cell_type": "code",
   "execution_count": 17,
   "metadata": {},
   "outputs": [
    {
     "name": "stdout",
     "output_type": "stream",
     "text": [
      "     fun: 1497.5999999906949\n",
      "     jac: array([36.        , 36.        , 36.        , 36.        , 36.        ,\n",
      "       36.        , 50.91168213, 50.91168213, 50.91169739, 50.91169739])\n",
      " message: 'Optimization terminated successfully'\n",
      "    nfev: 153\n",
      "     nit: 16\n",
      "    njev: 12\n",
      "  status: 0\n",
      " success: True\n",
      "       x: array([7.9       , 0.1       , 8.1       , 3.9       , 0.1       ,\n",
      "       0.1       , 5.79827561, 5.51543289, 3.67695526, 0.14142136])\n"
     ]
    }
   ],
   "source": [
    "x0 = np.ones(10,)*2.0 # Initial Guess for Cross Sectional Area of each member\n",
    "_constraints = NonlinearConstraint(g, -YIELD_STRESS, YIELD_STRESS)\n",
    "\n",
    "res_nograd = minimize(f, x0, constraints=_constraints, bounds=_bounds, tol=1e-6, jac=False)\n",
    "print(res_nograd)"
   ]
  }
 ],
 "metadata": {
  "kernelspec": {
   "display_name": "pyt37",
   "language": "python",
   "name": "python3"
  },
  "language_info": {
   "codemirror_mode": {
    "name": "ipython",
    "version": 3
   },
   "file_extension": ".py",
   "mimetype": "text/x-python",
   "name": "python",
   "nbconvert_exporter": "python",
   "pygments_lexer": "ipython3",
   "version": "3.7.11"
  },
  "orig_nbformat": 4,
  "vscode": {
   "interpreter": {
    "hash": "69e3d768710f0a184c29e98d125782cd2b931de38965008191db5552bf80cd38"
   }
  }
 },
 "nbformat": 4,
 "nbformat_minor": 2
}
