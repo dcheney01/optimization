{
 "cells": [
  {
   "cell_type": "code",
   "execution_count": 190,
   "metadata": {},
   "outputs": [],
   "source": [
    "\"\"\"\"\n",
    "The goal of this homework is to understand the approaches for taking derivatives and I will provide derivatives to the optimizer. I will use the truss problem with code available here: https://github.com/mdobook/resources/tree/main/exercises/tenbartruss\n",
    "\n",
    "I will use the following methods:\n",
    "    - Forward Finite Difference\n",
    "    - Complex-Step Derivative\n",
    "    - Algorithmic Differenctiation\n",
    "\"\"\"\n",
    "import numpy as np\n",
    "from truss import truss # For finite difference and complex step\n",
    "\n",
    "import jax.numpy as jnp\n",
    "from jax import jacfwd\n",
    "from truss_jax import truss_jax # For automatic differentiation\n",
    "\n",
    "from scipy.optimize import minimize, NonlinearConstraint\n",
    "import matplotlib.pyplot as plt"
   ]
  },
  {
   "cell_type": "code",
   "execution_count": 191,
   "metadata": {},
   "outputs": [],
   "source": [
    "\"\"\"\n",
    "Foward finite-difference Gradient Compuation of a Vector-Valued Function\n",
    "    inputs:\n",
    "        - x: point about which to compute the gradients\n",
    "        - h: step size to use when calculating the gradient, defaults to 1e-6\n",
    "        - mode: what kind of derivative (either of the mass or stresses wrt the cross sectional area)\n",
    "    outputs:\n",
    "        - J: jacobian of f wrt x\n",
    "\"\"\"\n",
    "\n",
    "def ff_jacobians(x, h=1e-6, mode='mass'):\n",
    "    mass0, stress0 = truss(x)\n",
    "\n",
    "    J_mass = np.zeros((len(x),))\n",
    "    J_stress = np.zeros((len(x), len(x)))\n",
    "\n",
    "    for j in range(len(x)):\n",
    "        x[j] += h\n",
    "        mass_forward, stress_forward = truss(x)\n",
    "        J_mass[j] = (mass_forward - mass0) / h\n",
    "        J_stress[:,j] = (stress_forward - stress0) / h\n",
    "        x[j] -= h\n",
    "\n",
    "    if mode == 'mass':\n",
    "        return J_mass\n",
    "    else:\n",
    "        return J_stress"
   ]
  },
  {
   "cell_type": "code",
   "execution_count": 192,
   "metadata": {},
   "outputs": [],
   "source": [
    "\"\"\"\n",
    "Complex Step Gradient Compuation of a Vector-Valued Function\n",
    "    inputs:\n",
    "        - x: point about which to compute the gradients\n",
    "        - h: step size to use when calculating the gradient, defaults to 1e-6\n",
    "        - mode: what kind of derivative (either of the mass or stresses wrt the cross sectional area)\n",
    "    outputs:\n",
    "        - J: jacobian of f wrt x\n",
    "\"\"\"\n",
    "\n",
    "def complex_jacobians(x, h=1e-20, mode='mass'):\n",
    "    J_mass = np.zeros((len(x),))\n",
    "    J_stress = np.zeros((len(x), len(x)))\n",
    "\n",
    "    x = x.astype('complex')\n",
    "\n",
    "    for j in range(len(x)):\n",
    "        x[j] += complex(0, h)\n",
    "        mass_forward, stress_forward = truss(x)\n",
    "        J_mass[j] = mass_forward.imag / h\n",
    "        J_stress[:,j] = stress_forward.imag / h\n",
    "        x[j] -= complex(0, h)\n",
    "\n",
    "    if mode == 'mass':\n",
    "        return J_mass\n",
    "    else:\n",
    "        return J_stress"
   ]
  },
  {
   "cell_type": "code",
   "execution_count": 193,
   "metadata": {},
   "outputs": [],
   "source": [
    "\"\"\"\n",
    "Forward Mode Automatic Differentiaton\n",
    "    inputs:\n",
    "        - x: point about which to compute the gradients\n",
    "        - mode: what kind of derivative (either of the mass or stresses wrt the cross sectional area)\n",
    "    outputs:\n",
    "        - J: jacobian of f wrt x\n",
    "\"\"\"\n",
    "\n",
    "def ad_jacobians(x, mode='mass'):\n",
    "    grad_truss = jacfwd(truss_jax)\n",
    "    if mode =='mass':\n",
    "        return grad_truss(x, get_mass=True)\n",
    "    return grad_truss(x) # Return stress jacobian\n"
   ]
  },
  {
   "cell_type": "code",
   "execution_count": 236,
   "metadata": {},
   "outputs": [
    {
     "name": "stdout",
     "output_type": "stream",
     "text": [
      "Finite Difference Steps:\n",
      "[35.99998 35.99998 35.99998 35.99998 35.99998 35.99998 50.91167 50.91167\n",
      " 50.91167 50.91167]\n",
      "[34.10605 34.10605 34.10605 34.10605 36.37979 36.37979 50.02221 50.02221\n",
      " 50.02221 50.02221]\n",
      "[0. 0. 0. 0. 0. 0. 0. 0. 0. 0.]\n",
      "Complex Step: [36.      36.      36.      36.      36.      36.      50.91169 50.91169\n",
      " 50.91169 50.91169]\n",
      "Automatic Differentiation: [36.      36.      36.      36.      36.      36.      50.91169 50.91169\n",
      " 50.91169 50.91169]\n",
      "\n"
     ]
    }
   ],
   "source": [
    "# Test Part 1 with Values given\n",
    "A0 = np.ones((10,))*3.0\n",
    "A0_jax = jnp.ones(10)*3.0\n",
    "\n",
    "\n",
    "# Test Mass Jacobians\n",
    "print(\"Finite Difference Steps:\")\n",
    "print(ff_jacobians(A0, h=1e-8, mode='mass'))\n",
    "print(ff_jacobians(A0, h=1e-13, mode='mass'))\n",
    "print(ff_jacobians(A0, h=1e-16, mode='mass'))\n",
    "\n",
    "print(f\"Complex Step: {complex_jacobians(A0, h=1e-5, mode='mass')}\")\n",
    "\n",
    "print(f\"Automatic Differentiation: {ad_jacobians(A0_jax, mode='mass')}\")\n",
    "print()"
   ]
  },
  {
   "cell_type": "code",
   "execution_count": 237,
   "metadata": {},
   "outputs": [
    {
     "name": "stdout",
     "output_type": "stream",
     "text": [
      "Finite Difference Steps:\n",
      "[-19168.78007    -53.9742   -2658.21988     80.54217    413.27382\n",
      "    -53.9742   -3844.46648   3503.87012    227.8091    -152.66305]\n",
      "[-19169.34489    -53.96432  -2658.29804     80.54703    413.28167\n",
      "    -54.00143  -3844.55197   3503.94403    227.81533   -152.67142]\n",
      "[-19179.42427    -72.75958  -2663.00049     87.31149    422.00554\n",
      "    -94.58745  -3834.42966   3463.35582    138.24319   -211.00277]\n",
      "[-19499.56641    509.31703  -2328.30644    145.51915    363.79788\n",
      "  -1964.50856  -3565.21923   3856.25754    363.79788  -1091.39364]\n",
      "[ -87311.49137   14551.91523   36379.78807   65483.61853       0.\n",
      " -138243.19467  -14551.91523       0.        65483.61853 -138243.19467]\n",
      "[0. 0. 0. 0. 0. 0. 0. 0. 0. 0.]\n",
      "Complex Step:\n",
      "[-19169.34433    -53.97581  -2658.29813     80.54457    413.28487\n",
      "    -53.97581  -3844.55226   3503.9483     227.81444   -152.66663]\n",
      "[-19169.34433    -53.97581  -2658.29813     80.54457    413.28487\n",
      "    -53.97581  -3844.55226   3503.9483     227.81444   -152.66663]\n",
      "[-19169.34433    -53.97581  -2658.29813     80.54457    413.28487\n",
      "    -53.97581  -3844.55226   3503.9483     227.81444   -152.66663]\n",
      "AD:\n",
      "[-19169.318      -53.97528  -2658.2913      80.54486    413.28546\n",
      "    -53.97601  -3844.5454    3503.95       227.8157    -152.66292]\n"
     ]
    }
   ],
   "source": [
    "# Test Stress Jacobians\n",
    "print(\"Finite Difference Steps:\")\n",
    "print(ff_jacobians(A0, h=1e-4, mode='stress')[0, :])\n",
    "print(ff_jacobians(A0, h=1e-8, mode='stress')[0, :])\n",
    "print(ff_jacobians(A0, h=1e-12, mode='stress')[0, :])\n",
    "print(ff_jacobians(A0, h=1e-13, mode='stress')[0, :])\n",
    "print(ff_jacobians(A0, h=1e-15, mode='stress')[0, :])\n",
    "print(ff_jacobians(A0, h=1e-16, mode='stress')[0, :])\n",
    "\n",
    "\n",
    "# Test Complex Step\n",
    "print(\"Complex Step:\")\n",
    "print(complex_jacobians(A0, h=1e-5, mode='stress')[0, :])\n",
    "print(complex_jacobians(A0, h=1e-10, mode='stress')[0, :])\n",
    "print(complex_jacobians(A0, h=1e-20, mode='stress')[0, :])\n",
    "\n",
    "print(\"AD:\")\n",
    "print(ad_jacobians(A0_jax, mode='stress')[0,:])"
   ]
  },
  {
   "cell_type": "code",
   "execution_count": 238,
   "metadata": {},
   "outputs": [
    {
     "name": "stdout",
     "output_type": "stream",
     "text": [
      "Finite Differencing Error: 9.701972799414549e-06\n",
      "Complex Step Error: -4.917349114063024e-07\n"
     ]
    }
   ],
   "source": [
    "ff_stress = ff_jacobians(A0, h=1e-9, mode='stress')\n",
    "complex_stress = complex_jacobians(A0, h=1e-200, mode='stress')\n",
    "ad_stress = ad_jacobians(A0_jax, mode='stress')\n",
    "\n",
    "print(f'Finite Differencing Error: {np.mean(np.divide(ad_stress - ff_stress, ff_stress))}')\n",
    "print(f'Complex Step Error: {np.mean(np.divide(ad_stress - complex_stress, complex_stress))}')"
   ]
  },
  {
   "cell_type": "code",
   "execution_count": 197,
   "metadata": {},
   "outputs": [],
   "source": [
    "# Part Two perform optimization with the Truss Problem\n",
    "\n",
    "# CONSTRAINTS\n",
    "YIELD_STRESS = np.ones(10,)*25e3 # psi\n",
    "YIELD_STRESS[8] = 75e3 # psi for member 9 only\n",
    "\n",
    "def yield_constraint(x):\n",
    "    mass, stress = truss(x)\n",
    "    return stress\n",
    "\n",
    "def dg(x):\n",
    "    return ad_jacobians(x, mode='stress')\n",
    "\n",
    "\n",
    "MIN_CROSS_SECTION = 0.1 # in^2, bound constraint\n",
    "CROSS_SECTION_BOUNDS = (MIN_CROSS_SECTION, np.inf)\n",
    "\n",
    "def f(x):\n",
    "    mass, stress = truss(x)\n",
    "    return mass\n",
    "\n",
    "def df(x):\n",
    "    return ad_jacobians(x, mode='mass')\n",
    "\n",
    "def obj(x):\n",
    "    return f(x), df(x)\n",
    "\n",
    "# CALLBACK TO DISPLAY PROGRESS\n",
    "def cb(xi):\n",
    "    # global convergence\n",
    "    # print(f'in callback: {xi}')\n",
    "    # convergence.append(xi)\n",
    "    # print(np.linalg.norm(df(xi), np.Inf))\n",
    "    pass\n"
   ]
  },
  {
   "cell_type": "code",
   "execution_count": 222,
   "metadata": {},
   "outputs": [
    {
     "name": "stderr",
     "output_type": "stream",
     "text": [
      "c:\\Users\\danie\\anaconda3\\envs\\pyt37\\lib\\site-packages\\scipy\\optimize\\optimize.py:283: RuntimeWarning: Values in x were outside bounds during a minimize step, clipping to bounds\n",
      "  \"minimize step, clipping to bounds\", RuntimeWarning)\n"
     ]
    },
    {
     "name": "stdout",
     "output_type": "stream",
     "text": [
      "     fun: 1497.6000000036158\n",
      "     jac: array([36.     , 36.     , 36.     , 36.     , 36.     , 36.     ,\n",
      "       50.91169, 50.91169, 50.91169, 50.91169])\n",
      " message: 'Optimization terminated successfully'\n",
      "    nfev: 1\n",
      "     nit: 1\n",
      "    njev: 1\n",
      "  status: 0\n",
      " success: True\n",
      "       x: array([7.9    , 0.1    , 8.1    , 3.9    , 0.1    , 0.1    , 5.79828,\n",
      "       5.51543, 3.67696, 0.14142])\n"
     ]
    }
   ],
   "source": [
    "x0 = np.ones(10,)*2 # Initial Guess for Cross Sectional Area of each member\n",
    "\n",
    "_constraints = NonlinearConstraint(yield_constraint, -YIELD_STRESS, YIELD_STRESS, jac=dg)\n",
    "_bounds = tuple([CROSS_SECTION_BOUNDS for b in range(10)])\n",
    "\n",
    "theoptions = {'disp': False, 'maxiter': 2}\n",
    "convergence = [100]\n",
    "prevX = x0\n",
    "\n",
    "while convergence[-1] > 1e-6:\n",
    "    res = minimize(obj, x0, constraints=_constraints, bounds=_bounds, tol=1e-6, jac=True, options=theoptions)\n",
    "    prevX = x0\n",
    "    x0 = res.x\n",
    "    convergence.append(np.linalg.norm(x0-prevX))\n",
    "\n",
    "print(res)\n",
    "# Optimization result wih my gradients: [7.9, 0.1, 8.1, 3.9, 0.1,  0.1,  5.79828, 5.51543, 3.67696, 0.14142]"
   ]
  },
  {
   "cell_type": "code",
   "execution_count": 233,
   "metadata": {},
   "outputs": [
    {
     "name": "stdout",
     "output_type": "stream",
     "text": [
      "     fun: 1497.5999999892817\n",
      "     jac: array([36.     , 36.     , 36.     , 36.     , 36.     , 36.     ,\n",
      "       50.91169, 50.91169, 50.91169, 50.91169])\n",
      " message: 'Optimization terminated successfully'\n",
      "    nfev: 67\n",
      "     nit: 20\n",
      "    njev: 16\n",
      "  status: 0\n",
      " success: True\n",
      "       x: array([7.9    , 0.1    , 8.1    , 3.9    , 0.1    , 0.1    , 5.79828,\n",
      "       5.51543, 3.67696, 0.14142])\n"
     ]
    }
   ],
   "source": [
    "x0 = np.ones(10,)*2 # Initial Guess for Cross Sectional Area of each member\n",
    "\n",
    "res_noconv = minimize(obj, x0, constraints=_constraints, bounds=_bounds, tol=1e-6, jac=True)\n",
    "print(res_noconv)"
   ]
  },
  {
   "cell_type": "code",
   "execution_count": 234,
   "metadata": {},
   "outputs": [
    {
     "name": "stdout",
     "output_type": "stream",
     "text": [
      "     fun: 1497.6000000157878\n",
      "     jac: array([36.     , 36.     , 36.     , 36.     , 36.     , 36.     ,\n",
      "       50.91168, 50.91168, 50.9117 , 50.91168])\n",
      " message: 'Optimization terminated successfully'\n",
      "    nfev: 111\n",
      "     nit: 10\n",
      "    njev: 9\n",
      "  status: 0\n",
      " success: True\n",
      "       x: array([7.9    , 0.1    , 8.1    , 3.9    , 0.1    , 0.1    , 5.79828,\n",
      "       5.51543, 3.67696, 0.14142])\n"
     ]
    }
   ],
   "source": [
    "x0 = np.ones(10,)*2 # Initial Guess for Cross Sectional Area of each member\n",
    "\n",
    "res_nograd = minimize(f, x0, constraints=_constraints, bounds=_bounds, tol=1e-6, jac=False)\n",
    "print(res_nograd)"
   ]
  },
  {
   "cell_type": "code",
   "execution_count": 227,
   "metadata": {},
   "outputs": [
    {
     "data": {
      "text/plain": [
       "Text(0, 0.5, 'Norm of the Change in x values')"
      ]
     },
     "execution_count": 227,
     "metadata": {},
     "output_type": "execute_result"
    },
    {
     "data": {
      "image/png": "[encoded data removed]",
      "text/plain": [
       "<Figure size 432x288 with 1 Axes>"
      ]
     },
     "metadata": {
      "needs_background": "light"
     },
     "output_type": "display_data"
    }
   ],
   "source": [
    "plt.plot(convergence[1:])\n",
    "plt.title(\"Convergence Plot for Truss Optimization\")\n",
    "plt.xlabel(\"Iteration\")\n",
    "plt.ylabel(\"Norm of the Change in x values\")"
   ]
  }
 ],
 "metadata": {
  "kernelspec": {
   "display_name": "pyt37",
   "language": "python",
   "name": "python3"
  },
  "language_info": {
   "codemirror_mode": {
    "name": "ipython",
    "version": 3
   },
   "file_extension": ".py",
   "mimetype": "text/x-python",
   "name": "python",
   "nbconvert_exporter": "python",
   "pygments_lexer": "ipython3",
   "version": "3.7.11"
  },
  "orig_nbformat": 4,
  "vscode": {
   "interpreter": {
    "hash": "69e3d768710f0a184c29e98d125782cd2b931de38965008191db5552bf80cd38"
   }
  }
 },
 "nbformat": 4,
 "nbformat_minor": 2
}
