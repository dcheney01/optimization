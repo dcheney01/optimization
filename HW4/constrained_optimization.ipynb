{
 "cells": [
  {
   "cell_type": "code",
   "execution_count": 98,
   "metadata": {},
   "outputs": [],
   "source": [
    "from scipy.optimize import minimize\n",
    "import numpy as np\n",
    "import matplotlib.pyplot as plt"
   ]
  },
  {
   "cell_type": "code",
   "execution_count": 107,
   "metadata": {},
   "outputs": [],
   "source": [
    "# Function from Example 5.4 in the book\n",
    "def f(x):\n",
    "    return x[0] + 2*x[1]\n",
    "\n",
    "def g(x):\n",
    "    return -(.25*x[0]**2 + x[1]**2 - 1)\n",
    "\n",
    "def f_penalized(x, mu):\n",
    "    return f(x) + (mu/2)*(g(x))**2"
   ]
  },
  {
   "cell_type": "code",
   "execution_count": 118,
   "metadata": {},
   "outputs": [],
   "source": [
    "\"\"\"\n",
    "Exterior Penalty Method\n",
    "    Inputs:\n",
    "        - f -> penalized function\n",
    "        - x0 -> starting point\n",
    "        - mu0 -> initial penalty parameter\n",
    "        - rho -> penalty increase factor\n",
    "        \n",
    "    Outputs: \n",
    "        - x_start -> optimal point\n",
    "        - f(x_star) -> function value at optimal point\n",
    "\n",
    "\"\"\"\n",
    "\n",
    "def exterior_penalty(f_penalized, g, x0, mu=3, rho=1.2):\n",
    "    k = 0\n",
    "    x_star = x0\n",
    "    first = True\n",
    "    feasible = False\n",
    "    convergence = []\n",
    "\n",
    "    while (np.linalg.norm(x0 - x_star) > 1e-6 or first): \n",
    "        arguments = (mu,)\n",
    "        x0 = x_star\n",
    "        res = minimize(f_penalized, x0, args=arguments) # subject to constraints\n",
    "        x_star = res.x\n",
    "        convergence.append(np.linalg.norm(x0 - x_star))\n",
    "\n",
    "        mu *= rho\n",
    "        k += 1\n",
    "        first = False\n",
    "\n",
    "    if g(x_star) <= 0:\n",
    "        print(\"x_star is in the feasible region\")\n",
    "    return convergence, x_star, k"
   ]
  },
  {
   "cell_type": "code",
   "execution_count": 121,
   "metadata": {},
   "outputs": [
    {
     "name": "stdout",
     "output_type": "stream",
     "text": [
      "x_star is in the feasible region\n",
      "x*: [-1.41411754 -0.70715985], f(x*): -2.8284372496579206,, niter: 59\n"
     ]
    },
    {
     "data": {
      "text/plain": [
       "Text(0, 0.5, 'Convergence Value')"
      ]
     },
     "execution_count": 121,
     "metadata": {},
     "output_type": "execute_result"
    },
    {
     "data": {
      "image/png": "[encoded data removed]",
      "text/plain": [
       "<Figure size 432x288 with 1 Axes>"
      ]
     },
     "metadata": {
      "needs_background": "light"
     },
     "output_type": "display_data"
    }
   ],
   "source": [
    "convergence, x_star, k = exterior_penalty(f_penalized, g, np.array([-2, -1.2]), mu=5, rho=1.2)\n",
    "function_value = f(x_star)\n",
    "print(f\"x*: {x_star}, f(x*): {function_value},, niter: {k}\")\n",
    "plt.plot(convergence)\n",
    "plt.title(\"Convergence Plot for Exterior Point\")\n",
    "plt.xlabel(\"Iteration\")\n",
    "plt.ylabel(\"Convergence Value\")"
   ]
  },
  {
   "cell_type": "code",
   "execution_count": 120,
   "metadata": {},
   "outputs": [
    {
     "data": {
      "text/plain": [
       "     fun: -2.8284271420154594\n",
       "     jac: array([1., 2.])\n",
       " message: 'Optimization terminated successfully'\n",
       "    nfev: 29\n",
       "     nit: 9\n",
       "    njev: 9\n",
       "  status: 0\n",
       " success: True\n",
       "       x: array([-1.41421353, -0.7071068 ])"
      ]
     },
     "execution_count": 120,
     "metadata": {},
     "output_type": "execute_result"
    }
   ],
   "source": [
    "x_star = [0, 0]\n",
    "cons = ({'type': 'ineq',\n",
    "       'fun': g,\n",
    "    #    'args': arguments       \n",
    "       })\n",
    "minimize(f, x_star, constraints=cons)# args=arguments)"
   ]
  }
 ],
 "metadata": {
  "kernelspec": {
   "display_name": "pyt37",
   "language": "python",
   "name": "python3"
  },
  "language_info": {
   "codemirror_mode": {
    "name": "ipython",
    "version": 3
   },
   "file_extension": ".py",
   "mimetype": "text/x-python",
   "name": "python",
   "nbconvert_exporter": "python",
   "pygments_lexer": "ipython3",
   "version": "3.7.11"
  },
  "orig_nbformat": 4
 },
 "nbformat": 4,
 "nbformat_minor": 2
}
